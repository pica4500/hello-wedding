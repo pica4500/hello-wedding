{
 "cells": [
  {
   "cell_type": "code",
   "execution_count": 1,
   "metadata": {},
   "outputs": [],
   "source": [
    "import os\n",
    "from PIL import Image\n",
    "\n",
    "os.chdir('./') #해당 폴더로 이동\n",
    "files = os.listdir(os.getcwd()) #현재 폴더에 있는 모든 파일을 list로 불러오기"
   ]
  },
  {
   "cell_type": "code",
   "execution_count": 5,
   "metadata": {},
   "outputs": [],
   "source": [
    "def resize(img,minsize):\n",
    "    width=img.size[0]\n",
    "    height=img.size[1]\n",
    "\n",
    "    if(height<width):\n",
    "        new_width  = minsize\n",
    "        new_height = int(new_width * height / width)\n",
    "    else:\n",
    "        new_height = minsize\n",
    "        new_width  = int(new_height * width / height)\n",
    "\n",
    "    img=img.resize((new_width,new_height),Image.LANCZOS)\n",
    "    return img"
   ]
  },
  {
   "cell_type": "code",
   "execution_count": 7,
   "metadata": {},
   "outputs": [],
   "source": [
    "for file in files:\n",
    "    if file.split('.')[-1] != 'jpg':\n",
    "        continue\n",
    "    img = Image.open(file)  # 이미지 불러오기\n",
    "    img_size = img.size  # 이미지의 크기 측정\n",
    "    # 직사각형의 이미지가 256x512 이라면, img_size = (256,512)가 된다.\n",
    "    x = img_size[0]  # 넓이값\n",
    "    y = img_size[1]  # 높이값\n",
    "\n",
    "    if x != y:\n",
    "        size = max(x, y)\n",
    "        resized_img = Image.new(mode='RGB', size=(size, size), color=(255, 255, 255))\n",
    "        offset = (round((abs(x - size)) / 2), round((abs(y - size)) / 2))\n",
    "        resized_img.paste(img, offset)\n",
    "        resized_img = resize(resized_img, 1000)\n",
    "        resized_img.save(file)"
   ]
  },
  {
   "cell_type": "code",
   "execution_count": null,
   "metadata": {},
   "outputs": [],
   "source": []
  }
 ],
 "metadata": {
  "kernelspec": {
   "display_name": "Python 3",
   "language": "python",
   "name": "python3"
  },
  "language_info": {
   "codemirror_mode": {
    "name": "ipython",
    "version": 3
   },
   "file_extension": ".py",
   "mimetype": "text/x-python",
   "name": "python",
   "nbconvert_exporter": "python",
   "pygments_lexer": "ipython3",
   "version": "3.7.6"
  }
 },
 "nbformat": 4,
 "nbformat_minor": 2
}
